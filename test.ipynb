{
 "cells": [
  {
   "cell_type": "markdown",
   "id": "cc392957",
   "metadata": {},
   "source": [
    "# Imports"
   ]
  },
  {
   "cell_type": "code",
   "execution_count": null,
   "id": "c20659ad",
   "metadata": {},
   "outputs": [],
   "source": [
    "from utils import test_model\n",
    "from datamodule import VLASSLoader"
   ]
  },
  {
   "cell_type": "code",
   "execution_count": null,
   "id": "5715bfdd",
   "metadata": {},
   "outputs": [],
   "source": [
    "# import timm\n",
    "# print(timm.list_models('*efficientnet*'))"
   ]
  },
  {
   "cell_type": "markdown",
   "id": "e2f244c9",
   "metadata": {},
   "source": [
    "# Load"
   ]
  },
  {
   "cell_type": "code",
   "execution_count": null,
   "id": "cd2e18d2",
   "metadata": {},
   "outputs": [
    {
     "name": "stdout",
     "output_type": "stream",
     "text": [
      "Loading data from file: ./data\\vlass_data_array.p\n",
      "Loading labels from file: ./data\\vlass_labels.p\n",
      "61351 images, each of size 64 x 64 pixels.\n",
      "There are 61351 corresponding labels - one category for each image.\n",
      "Loading data from file: ./data\\vlass_data_array.p\n",
      "Loading labels from file: ./data\\vlass_labels.p\n",
      "61351 images, each of size 64 x 64 pixels.\n",
      "There are 61351 corresponding labels - one category for each image.\n",
      "Val size: 12271\n"
     ]
    }
   ],
   "source": [
    "loader = VLASSLoader(root='./data')\n",
    "\n",
    "loader.setup('fit')\n",
    "val_dataloader = loader.val_dataloader()"
   ]
  },
  {
   "cell_type": "markdown",
   "id": "cbb3e876",
   "metadata": {},
   "source": [
    "# CNN"
   ]
  },
  {
   "cell_type": "code",
   "execution_count": null,
   "id": "81860244",
   "metadata": {},
   "outputs": [
    {
     "name": "stderr",
     "output_type": "stream",
     "text": [
      "100%|██████████| 191/191 [00:10<00:00, 18.78it/s]\n"
     ]
    },
    {
     "name": "stdout",
     "output_type": "stream",
     "text": [
      "Accuracy = 0.8385962041884817, F1 = 0.7548070171650243\n",
      "Classification report:\n",
      "               precision    recall  f1-score   support\n",
      "\n",
      "           0       0.86      0.85      0.86      2622\n",
      "           1       0.94      0.95      0.94      5162\n",
      "           2       0.78      0.81      0.79      3311\n",
      "           3       0.46      0.40      0.43      1129\n",
      "\n",
      "    accuracy                           0.84     12224\n",
      "   macro avg       0.76      0.75      0.75     12224\n",
      "weighted avg       0.83      0.84      0.84     12224\n",
      "\n",
      "Confusion Matrix:\n",
      " [[2235   13   84  290]\n",
      " [  23 4896  223   20]\n",
      " [ 129  293 2670  219]\n",
      " [ 211   28  440  450]]\n"
     ]
    }
   ],
   "source": [
    "from models.cnn import CNN\n",
    "\n",
    "model = CNN.load_from_checkpoint(\n",
    "    'outputs/cnn/lightning_logs/version_7/checkpoints/epoch=6-step=5362.ckpt'\n",
    ").cpu()\n",
    "result = test_model(model, val_dataloader)\n",
    "\n",
    "print(f'Accuracy = {result[\"accuracy\"]:.4f}, F1 = {result[\"f1\"]:.4f}')\n",
    "print('Classification report:\\n', result['classification_report'])\n",
    "print('Confusion Matrix:\\n', result['confusion_matrix'])"
   ]
  },
  {
   "cell_type": "markdown",
   "id": "a37ab929",
   "metadata": {},
   "source": [
    "# ResNet"
   ]
  },
  {
   "cell_type": "code",
   "execution_count": null,
   "id": "b102d31a",
   "metadata": {},
   "outputs": [
    {
     "name": "stderr",
     "output_type": "stream",
     "text": [
      "100%|██████████| 191/191 [00:17<00:00, 10.86it/s]\n"
     ]
    }
   ],
   "source": [
    "from models.cnn import ResNet\n",
    "\n",
    "model = ResNet.load_from_checkpoint(\n",
    "    'outputs/resnet/lightning_logs/version_1/checkpoints/epoch=2-step=2298.ckpt'\n",
    ").cpu()\n",
    "\n",
    "result = test_model(model, val_dataloader)"
   ]
  },
  {
   "cell_type": "code",
   "execution_count": 6,
   "id": "23ee3fa5",
   "metadata": {},
   "outputs": [
    {
     "name": "stdout",
     "output_type": "stream",
     "text": [
      "Accuracy = 0.8808082460732984, F1 = 0.8135616403993511\n",
      "Classification report:\n",
      "               precision    recall  f1-score   support\n",
      "\n",
      "           0       0.87      0.92      0.90      2622\n",
      "           1       0.96      0.96      0.96      5162\n",
      "           2       0.83      0.86      0.85      3311\n",
      "           3       0.62      0.49      0.55      1129\n",
      "\n",
      "    accuracy                           0.88     12224\n",
      "   macro avg       0.82      0.81      0.81     12224\n",
      "weighted avg       0.88      0.88      0.88     12224\n",
      "\n",
      "Confusion Matrix:\n",
      " [[2417    6   56  143]\n",
      " [  11 4937  208    6]\n",
      " [  93  175 2855  188]\n",
      " [ 248    4  319  558]]\n"
     ]
    }
   ],
   "source": [
    "print(f'Accuracy = {result[\"accuracy\"]}, F1 = {result[\"f1\"]}')\n",
    "print('Classification report:\\n', result['classification_report'])\n",
    "print('Confusion Matrix:\\n', result['confusion_matrix'])"
   ]
  },
  {
   "cell_type": "markdown",
   "id": "dda64138",
   "metadata": {},
   "source": [
    "# ViT"
   ]
  },
  {
   "cell_type": "code",
   "execution_count": 11,
   "id": "347fc2b5",
   "metadata": {},
   "outputs": [
    {
     "name": "stderr",
     "output_type": "stream",
     "text": [
      "100%|██████████| 191/191 [00:48<00:00,  3.95it/s]"
     ]
    },
    {
     "name": "stdout",
     "output_type": "stream",
     "text": [
      "Accuracy = 0.9154, F1 = 0.8693\n",
      "Classification report:\n",
      "               precision    recall  f1-score   support\n",
      "\n",
      "           0       0.95      0.90      0.93      2622\n",
      "           1       0.98      0.97      0.97      5162\n",
      "           2       0.87      0.92      0.90      3311\n",
      "           3       0.68      0.68      0.68      1129\n",
      "\n",
      "    accuracy                           0.92     12224\n",
      "   macro avg       0.87      0.87      0.87     12224\n",
      "weighted avg       0.92      0.92      0.92     12224\n",
      "\n",
      "Confusion Matrix:\n",
      " [[2364    9   46  203]\n",
      " [   0 5011  146    5]\n",
      " [  15  100 3049  147]\n",
      " [ 110    7  246  766]]\n"
     ]
    },
    {
     "name": "stderr",
     "output_type": "stream",
     "text": [
      "\n"
     ]
    }
   ],
   "source": [
    "from models.vit import ViT\n",
    "\n",
    "model = ViT.load_from_checkpoint(\n",
    "    'outputs/vit/lightning_logs/version_2/checkpoints/epoch=2-step=2298.ckpt'\n",
    ").cpu()\n",
    "\n",
    "result = test_model(model, val_dataloader)\n",
    "\n",
    "print(f'Accuracy = {result[\"accuracy\"]:.4f}, F1 = {result[\"f1\"]:.4f}')\n",
    "print('Classification report:\\n', result['classification_report'])\n",
    "print('Confusion Matrix:\\n', result['confusion_matrix'])"
   ]
  }
 ],
 "metadata": {
  "kernelspec": {
   "display_name": "Python 3",
   "language": "python",
   "name": "python3"
  },
  "language_info": {
   "codemirror_mode": {
    "name": "ipython",
    "version": 3
   },
   "file_extension": ".py",
   "mimetype": "text/x-python",
   "name": "python",
   "nbconvert_exporter": "python",
   "pygments_lexer": "ipython3",
   "version": "3.10.11"
  }
 },
 "nbformat": 4,
 "nbformat_minor": 5
}
