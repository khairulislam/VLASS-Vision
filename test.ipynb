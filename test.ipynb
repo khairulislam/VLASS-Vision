{
 "cells": [
  {
   "cell_type": "markdown",
   "id": "cc392957",
   "metadata": {},
   "source": [
    "# Imports"
   ]
  },
  {
   "cell_type": "code",
   "execution_count": 1,
   "id": "c20659ad",
   "metadata": {
    "tags": []
   },
   "outputs": [],
   "source": [
    "from utils import test_model\n",
    "from datamodule import VLASSLoader\n",
    "import torch\n",
    "from models.vit import ViT\n",
    "from models.cnn import CNN, ResNet"
   ]
  },
  {
   "cell_type": "code",
   "execution_count": 5,
   "id": "5715bfdd",
   "metadata": {
    "tags": []
   },
   "outputs": [
    {
     "name": "stdout",
     "output_type": "stream",
     "text": [
      "['hiera_base_abswin_256', 'hiera_small_abswin_256', 'swin_base_patch4_window7_224', 'swin_base_patch4_window12_384', 'swin_large_patch4_window7_224', 'swin_large_patch4_window12_384', 'swin_s3_base_224', 'swin_s3_small_224', 'swin_s3_tiny_224', 'swin_small_patch4_window7_224', 'swin_tiny_patch4_window7_224', 'swinv2_base_window8_256', 'swinv2_base_window12_192', 'swinv2_base_window12to16_192to256', 'swinv2_base_window12to24_192to384', 'swinv2_base_window16_256', 'swinv2_cr_base_224', 'swinv2_cr_base_384', 'swinv2_cr_base_ns_224', 'swinv2_cr_giant_224', 'swinv2_cr_giant_384', 'swinv2_cr_huge_224', 'swinv2_cr_huge_384', 'swinv2_cr_large_224', 'swinv2_cr_large_384', 'swinv2_cr_small_224', 'swinv2_cr_small_384', 'swinv2_cr_small_ns_224', 'swinv2_cr_small_ns_256', 'swinv2_cr_tiny_224', 'swinv2_cr_tiny_384', 'swinv2_cr_tiny_ns_224', 'swinv2_large_window12_192', 'swinv2_large_window12to16_192to256', 'swinv2_large_window12to24_192to384', 'swinv2_small_window8_256', 'swinv2_small_window16_256', 'swinv2_tiny_window8_256', 'swinv2_tiny_window16_256']\n"
     ]
    }
   ],
   "source": [
    "# https://docs.pytorch.org/vision/0.21/models.html\n",
    "import timm\n",
    "print(timm.list_models('*swin*'))"
   ]
  },
  {
   "cell_type": "markdown",
   "id": "e2f244c9",
   "metadata": {},
   "source": [
    "# Load"
   ]
  },
  {
   "cell_type": "code",
   "execution_count": 2,
   "id": "cd2e18d2",
   "metadata": {
    "tags": []
   },
   "outputs": [
    {
     "name": "stdout",
     "output_type": "stream",
     "text": [
      "Downloading data from URL: https://www.cv.nrao.edu/~bkent/astro/vlass/vlass_data_array.p\n",
      "Downloading labels from URL: https://www.cv.nrao.edu/~bkent/astro/vlass/vlass_labels.p\n",
      "61351 images, each of size 64 x 64 pixels.\n",
      "There are 61351 corresponding labels - one category for each image.\n",
      "Downloading data from URL: https://www.cv.nrao.edu/~bkent/astro/vlass/vlass_data_array.p\n",
      "Downloading labels from URL: https://www.cv.nrao.edu/~bkent/astro/vlass/vlass_labels.p\n",
      "61351 images, each of size 64 x 64 pixels.\n",
      "There are 61351 corresponding labels - one category for each image.\n",
      "Val size: 12271\n"
     ]
    }
   ],
   "source": [
    "loader = VLASSLoader(root='./data')\n",
    "\n",
    "loader.setup('fit')\n",
    "val_dataloader = loader.val_dataloader()"
   ]
  },
  {
   "cell_type": "markdown",
   "id": "cbb3e876",
   "metadata": {},
   "source": [
    "# CNN"
   ]
  },
  {
   "cell_type": "markdown",
   "id": "d7e67346",
   "metadata": {},
   "source": [
    "## No augmentation"
   ]
  },
  {
   "cell_type": "code",
   "execution_count": 7,
   "id": "81860244",
   "metadata": {},
   "outputs": [
    {
     "name": "stderr",
     "output_type": "stream",
     "text": [
      "100%|██████████| 191/191 [00:10<00:00, 18.78it/s]\n"
     ]
    },
    {
     "name": "stdout",
     "output_type": "stream",
     "text": [
      "Accuracy = 0.8385962041884817, F1 = 0.7548070171650243\n",
      "Classification report:\n",
      "               precision    recall  f1-score   support\n",
      "\n",
      "           0       0.86      0.85      0.86      2622\n",
      "           1       0.94      0.95      0.94      5162\n",
      "           2       0.78      0.81      0.79      3311\n",
      "           3       0.46      0.40      0.43      1129\n",
      "\n",
      "    accuracy                           0.84     12224\n",
      "   macro avg       0.76      0.75      0.75     12224\n",
      "weighted avg       0.83      0.84      0.84     12224\n",
      "\n",
      "Confusion Matrix:\n",
      " [[2235   13   84  290]\n",
      " [  23 4896  223   20]\n",
      " [ 129  293 2670  219]\n",
      " [ 211   28  440  450]]\n"
     ]
    }
   ],
   "source": [
    "model = CNN.load_from_checkpoint(\n",
    "    'outputs/cnn/lightning_logs/version_7/checkpoints/epoch=6-step=5362.ckpt'\n",
    ").cpu()\n",
    "result = test_model(model, val_dataloader)\n",
    "\n",
    "print(f'Accuracy = {result[\"accuracy\"]:.4f}, F1 = {result[\"f1\"]:.4f}')\n",
    "print('Classification report:\\n', result['classification_report'])\n",
    "print('Confusion Matrix:\\n', result['confusion_matrix'])"
   ]
  },
  {
   "cell_type": "markdown",
   "id": "11e873f5",
   "metadata": {},
   "source": [
    "## Augmented"
   ]
  },
  {
   "cell_type": "code",
   "execution_count": 17,
   "id": "a1dd2c1f",
   "metadata": {},
   "outputs": [
    {
     "name": "stderr",
     "output_type": "stream",
     "text": [
      "100%|██████████| 191/191 [00:11<00:00, 16.08it/s]"
     ]
    },
    {
     "name": "stdout",
     "output_type": "stream",
     "text": [
      "Accuracy = 0.8318, F1 = 0.6445\n",
      "Classification report:\n",
      "               precision    recall  f1-score   support\n",
      "\n",
      "           0       0.79      0.94      0.86      2622\n",
      "           1       0.92      0.96      0.94      5162\n",
      "           2       0.73      0.83      0.78      3311\n",
      "           3       0.00      0.00      0.00      1129\n",
      "\n",
      "    accuracy                           0.83     12224\n",
      "   macro avg       0.61      0.68      0.64     12224\n",
      "weighted avg       0.76      0.83      0.79     12224\n",
      "\n",
      "Confusion Matrix:\n",
      " [[2453   15  154    0]\n",
      " [  27 4977  158    0]\n",
      " [ 194  379 2738    0]\n",
      " [ 426   24  679    0]]\n"
     ]
    },
    {
     "name": "stderr",
     "output_type": "stream",
     "text": [
      "\n"
     ]
    }
   ],
   "source": [
    "model = CNN.load_from_checkpoint(\n",
    "    'outputs/cnn/lightning_logs/version_12/checkpoints/epoch=9-step=7660.ckpt'\n",
    ").cpu()\n",
    "result = test_model(model, val_dataloader)\n",
    "\n",
    "print(f'Accuracy = {result[\"accuracy\"]:.4f}, F1 = {result[\"f1\"]:.4f}')\n",
    "print('Classification report:\\n', result['classification_report'])\n",
    "print('Confusion Matrix:\\n', result['confusion_matrix'])"
   ]
  },
  {
   "cell_type": "markdown",
   "id": "a37ab929",
   "metadata": {},
   "source": [
    "# ResNet"
   ]
  },
  {
   "cell_type": "markdown",
   "id": "4b631adc",
   "metadata": {},
   "source": [
    "## Full-tuned, no augmentation"
   ]
  },
  {
   "cell_type": "code",
   "execution_count": null,
   "id": "23ee3fa5",
   "metadata": {},
   "outputs": [
    {
     "name": "stdout",
     "output_type": "stream",
     "text": [
      "Accuracy = 0.8808082460732984, F1 = 0.8135616403993511\n",
      "Classification report:\n",
      "               precision    recall  f1-score   support\n",
      "\n",
      "           0       0.87      0.92      0.90      2622\n",
      "           1       0.96      0.96      0.96      5162\n",
      "           2       0.83      0.86      0.85      3311\n",
      "           3       0.62      0.49      0.55      1129\n",
      "\n",
      "    accuracy                           0.88     12224\n",
      "   macro avg       0.82      0.81      0.81     12224\n",
      "weighted avg       0.88      0.88      0.88     12224\n",
      "\n",
      "Confusion Matrix:\n",
      " [[2417    6   56  143]\n",
      " [  11 4937  208    6]\n",
      " [  93  175 2855  188]\n",
      " [ 248    4  319  558]]\n"
     ]
    }
   ],
   "source": [
    "model = ResNet.load_from_checkpoint(\n",
    "    'outputs/resnet/lightning_logs/version_1/checkpoints/epoch=2-step=2298.ckpt'\n",
    ").cpu()\n",
    "\n",
    "result = test_model(model, val_dataloader)\n",
    "\n",
    "print(f'Accuracy = {result[\"accuracy\"]}, F1 = {result[\"f1\"]}')\n",
    "print('Classification report:\\n', result['classification_report'])\n",
    "print('Confusion Matrix:\\n', result['confusion_matrix'])"
   ]
  },
  {
   "cell_type": "markdown",
   "id": "768da487",
   "metadata": {},
   "source": [
    "## Frozen, no augmentation"
   ]
  },
  {
   "cell_type": "code",
   "execution_count": 6,
   "id": "ae9b4258",
   "metadata": {},
   "outputs": [
    {
     "name": "stderr",
     "output_type": "stream",
     "text": [
      "100%|██████████| 191/191 [00:18<00:00, 10.14it/s]"
     ]
    },
    {
     "name": "stdout",
     "output_type": "stream",
     "text": [
      "Accuracy = 0.7378108638743456, F1 = 0.6014379876685579\n",
      "Classification report:\n",
      "               precision    recall  f1-score   support\n",
      "\n",
      "           0       0.77      0.83      0.80      2622\n",
      "           1       0.81      0.91      0.86      5162\n",
      "           2       0.61      0.63      0.62      3311\n",
      "           3       0.36      0.08      0.13      1129\n",
      "\n",
      "    accuracy                           0.74     12224\n",
      "   macro avg       0.64      0.61      0.60     12224\n",
      "weighted avg       0.71      0.74      0.71     12224\n",
      "\n",
      "Confusion Matrix:\n",
      " [[2179   81  294   68]\n",
      " [  90 4677  380   15]\n",
      " [ 248  910 2072   81]\n",
      " [ 328   81  629   91]]\n"
     ]
    },
    {
     "name": "stderr",
     "output_type": "stream",
     "text": [
      "\n"
     ]
    }
   ],
   "source": [
    "model = ResNet.load_from_checkpoint(\n",
    "    'outputs/resnet/lightning_logs/version_3/checkpoints/epoch=9-step=7660.ckpt'\n",
    ").cpu()\n",
    "\n",
    "result = test_model(model, val_dataloader)\n",
    "\n",
    "print(f'Accuracy = {result[\"accuracy\"]}, F1 = {result[\"f1\"]}')\n",
    "print('Classification report:\\n', result['classification_report'])\n",
    "print('Confusion Matrix:\\n', result['confusion_matrix'])"
   ]
  },
  {
   "cell_type": "markdown",
   "id": "2c7f8cc1",
   "metadata": {},
   "source": [
    "## Full-tuned, augmented"
   ]
  },
  {
   "cell_type": "code",
   "execution_count": null,
   "id": "b833f304",
   "metadata": {},
   "outputs": [
    {
     "name": "stderr",
     "output_type": "stream",
     "text": [
      "100%|██████████| 191/191 [00:49<00:00,  3.86it/s]\n"
     ]
    },
    {
     "name": "stdout",
     "output_type": "stream",
     "text": [
      "Accuracy = 0.9016688481675392, F1 = 0.8448609543790737\n",
      "Classification report:\n",
      "               precision    recall  f1-score   support\n",
      "\n",
      "           0       0.91      0.92      0.91      2622\n",
      "           1       0.96      0.97      0.97      5162\n",
      "           2       0.88      0.88      0.88      3311\n",
      "           3       0.65      0.59      0.62      1129\n",
      "\n",
      "    accuracy                           0.90     12224\n",
      "   macro avg       0.85      0.84      0.84     12224\n",
      "weighted avg       0.90      0.90      0.90     12224\n",
      "\n",
      "Confusion Matrix:\n",
      " [[2409    2   38  173]\n",
      " [   9 5032  113    8]\n",
      " [  42  176 2916  177]\n",
      " [ 194   17  253  665]]\n"
     ]
    }
   ],
   "source": [
    "model = ResNet.load_from_checkpoint(\n",
    "    'outputs/resnet/lightning_logs/version_5/checkpoints/epoch=7-step=6128.ckpt'\n",
    ").cpu()\n",
    "\n",
    "result = test_model(model, val_dataloader)\n",
    "\n",
    "print(f'Accuracy = {result[\"accuracy\"]}, F1 = {result[\"f1\"]}')\n",
    "print('Classification report:\\n', result['classification_report'])\n",
    "print('Confusion Matrix:\\n', result['confusion_matrix'])"
   ]
  },
  {
   "cell_type": "markdown",
   "id": "a91de5e2-3f53-4afb-b72f-7706497c15ae",
   "metadata": {},
   "source": [
    "# MobileNet"
   ]
  },
  {
   "cell_type": "code",
   "execution_count": 3,
   "id": "16d6c657-9319-47ec-b700-25914391a434",
   "metadata": {
    "tags": []
   },
   "outputs": [
    {
     "name": "stderr",
     "output_type": "stream",
     "text": [
      "100%|██████████| 191/191 [00:04<00:00, 46.62it/s]\n"
     ]
    },
    {
     "name": "stdout",
     "output_type": "stream",
     "text": [
      "Accuracy = 0.8855, F1 = 0.8189\n",
      "Classification report:\n",
      "               precision    recall  f1-score   support\n",
      "\n",
      "           0       0.89      0.91      0.90      2622\n",
      "           1       0.95      0.97      0.96      5162\n",
      "           2       0.84      0.88      0.85      3311\n",
      "           3       0.65      0.49      0.56      1129\n",
      "\n",
      "    accuracy                           0.89     12224\n",
      "   macro avg       0.83      0.81      0.82     12224\n",
      "weighted avg       0.88      0.89      0.88     12224\n",
      "\n",
      "Confusion Matrix:\n",
      " [[2391    9   58  164]\n",
      " [  15 4982  161    4]\n",
      " [  63  222 2898  128]\n",
      " [ 206   18  352  553]]\n"
     ]
    }
   ],
   "source": [
    "model = ResNet.load_from_checkpoint(\n",
    "    './outputs/mobilenet/lightning_logs/version_4795120/checkpoints/epoch=9-step=7660.ckpt'\n",
    ").cuda()\n",
    "\n",
    "result = test_model(model, val_dataloader)\n",
    "\n",
    "print(f'Accuracy = {result[\"accuracy\"]:.4f}, F1 = {result[\"f1\"]:.4f}')\n",
    "print('Classification report:\\n', result['classification_report'])\n",
    "print('Confusion Matrix:\\n', result['confusion_matrix'])"
   ]
  },
  {
   "cell_type": "markdown",
   "id": "f01ebe9f-27ac-4cf4-a420-63e42f6522d4",
   "metadata": {},
   "source": [
    "# EfficientNet"
   ]
  },
  {
   "cell_type": "code",
   "execution_count": 4,
   "id": "3ba01c03-4589-42b6-a47e-1f14960bfd66",
   "metadata": {
    "tags": []
   },
   "outputs": [
    {
     "name": "stderr",
     "output_type": "stream",
     "text": [
      "100%|██████████| 191/191 [00:06<00:00, 29.80it/s]\n"
     ]
    },
    {
     "name": "stdout",
     "output_type": "stream",
     "text": [
      "Accuracy = 0.8337, F1 = 0.7485\n",
      "Classification report:\n",
      "               precision    recall  f1-score   support\n",
      "\n",
      "           0       0.88      0.85      0.87      2622\n",
      "           1       0.93      0.92      0.93      5162\n",
      "           2       0.73      0.84      0.78      3311\n",
      "           3       0.53      0.34      0.42      1129\n",
      "\n",
      "    accuracy                           0.83     12224\n",
      "   macro avg       0.77      0.74      0.75     12224\n",
      "weighted avg       0.83      0.83      0.83     12224\n",
      "\n",
      "Confusion Matrix:\n",
      " [[2237   28  164  193]\n",
      " [  13 4774  369    6]\n",
      " [  88  283 2791  149]\n",
      " [ 201   24  515  389]]\n"
     ]
    }
   ],
   "source": [
    "model = ResNet.load_from_checkpoint(\n",
    "    './outputs/efficientnet/lightning_logs/version_4795120/checkpoints/epoch=2-step=2298.ckpt'\n",
    ").cuda()\n",
    "\n",
    "result = test_model(model, val_dataloader)\n",
    "\n",
    "print(f'Accuracy = {result[\"accuracy\"]:.4f}, F1 = {result[\"f1\"]:.4f}')\n",
    "print('Classification report:\\n', result['classification_report'])\n",
    "print('Confusion Matrix:\\n', result['confusion_matrix'])"
   ]
  },
  {
   "cell_type": "markdown",
   "id": "dda64138",
   "metadata": {},
   "source": [
    "# ViT"
   ]
  },
  {
   "cell_type": "markdown",
   "id": "fb9c217d",
   "metadata": {},
   "source": [
    "## Full-tuned, no augmentation"
   ]
  },
  {
   "cell_type": "code",
   "execution_count": 11,
   "id": "347fc2b5",
   "metadata": {},
   "outputs": [
    {
     "name": "stderr",
     "output_type": "stream",
     "text": [
      "100%|██████████| 191/191 [00:48<00:00,  3.95it/s]"
     ]
    },
    {
     "name": "stdout",
     "output_type": "stream",
     "text": [
      "Accuracy = 0.9154, F1 = 0.8693\n",
      "Classification report:\n",
      "               precision    recall  f1-score   support\n",
      "\n",
      "           0       0.95      0.90      0.93      2622\n",
      "           1       0.98      0.97      0.97      5162\n",
      "           2       0.87      0.92      0.90      3311\n",
      "           3       0.68      0.68      0.68      1129\n",
      "\n",
      "    accuracy                           0.92     12224\n",
      "   macro avg       0.87      0.87      0.87     12224\n",
      "weighted avg       0.92      0.92      0.92     12224\n",
      "\n",
      "Confusion Matrix:\n",
      " [[2364    9   46  203]\n",
      " [   0 5011  146    5]\n",
      " [  15  100 3049  147]\n",
      " [ 110    7  246  766]]\n"
     ]
    },
    {
     "name": "stderr",
     "output_type": "stream",
     "text": [
      "\n"
     ]
    }
   ],
   "source": [
    "model = ViT.load_from_checkpoint(\n",
    "    'outputs/vit/lightning_logs/version_2/checkpoints/epoch=2-step=2298.ckpt'\n",
    ").cpu()\n",
    "\n",
    "result = test_model(model, val_dataloader)\n",
    "\n",
    "print(f'Accuracy = {result[\"accuracy\"]:.4f}, F1 = {result[\"f1\"]:.4f}')\n",
    "print('Classification report:\\n', result['classification_report'])\n",
    "print('Confusion Matrix:\\n', result['confusion_matrix'])"
   ]
  },
  {
   "cell_type": "markdown",
   "id": "f81ab28e",
   "metadata": {},
   "source": [
    "## Frozen, no augmentation"
   ]
  },
  {
   "cell_type": "code",
   "execution_count": 3,
   "id": "65888b7c",
   "metadata": {},
   "outputs": [
    {
     "name": "stderr",
     "output_type": "stream",
     "text": [
      "100%|██████████| 191/191 [01:03<00:00,  3.02it/s]"
     ]
    },
    {
     "name": "stdout",
     "output_type": "stream",
     "text": [
      "Accuracy = 0.8400, F1 = 0.7332\n",
      "Classification report:\n",
      "               precision    recall  f1-score   support\n",
      "\n",
      "           0       0.86      0.89      0.87      2622\n",
      "           1       0.94      0.95      0.94      5162\n",
      "           2       0.74      0.84      0.79      3311\n",
      "           3       0.50      0.25      0.33      1129\n",
      "\n",
      "    accuracy                           0.84     12224\n",
      "   macro avg       0.76      0.73      0.73     12224\n",
      "weighted avg       0.83      0.84      0.83     12224\n",
      "\n",
      "Confusion Matrix:\n",
      " [[2332   17  125  148]\n",
      " [  13 4884  262    3]\n",
      " [ 128  282 2773  128]\n",
      " [ 242   23  585  279]]\n"
     ]
    },
    {
     "name": "stderr",
     "output_type": "stream",
     "text": [
      "\n"
     ]
    }
   ],
   "source": [
    "model = ViT.load_from_checkpoint(\n",
    "    'outputs/vit/lightning_logs/version_3/checkpoints/epoch=8-step=6894.ckpt'\n",
    ").cpu()\n",
    "\n",
    "result = test_model(model, val_dataloader)\n",
    "\n",
    "print(f'Accuracy = {result[\"accuracy\"]:.4f}, F1 = {result[\"f1\"]:.4f}')\n",
    "print('Classification report:\\n', result['classification_report'])\n",
    "print('Confusion Matrix:\\n', result['confusion_matrix'])"
   ]
  },
  {
   "cell_type": "markdown",
   "id": "62e34f7c-8b83-4f35-a614-5ee58580688f",
   "metadata": {
    "tags": []
   },
   "source": [
    "## Vit-Base"
   ]
  },
  {
   "cell_type": "code",
   "execution_count": 9,
   "id": "1ef0e75c-449c-45bb-a2a5-a393c88ace20",
   "metadata": {
    "tags": []
   },
   "outputs": [
    {
     "name": "stderr",
     "output_type": "stream",
     "text": [
      "100%|██████████| 191/191 [00:09<00:00, 19.49it/s]"
     ]
    },
    {
     "name": "stdout",
     "output_type": "stream",
     "text": [
      "Accuracy = 0.9185, F1 = 0.8790\n",
      "Classification report:\n",
      "               precision    recall  f1-score   support\n",
      "\n",
      "           0       0.95      0.90      0.93      2622\n",
      "           1       0.98      0.96      0.97      5162\n",
      "           2       0.88      0.93      0.90      3311\n",
      "           3       0.68      0.75      0.71      1129\n",
      "\n",
      "    accuracy                           0.92     12224\n",
      "   macro avg       0.88      0.88      0.88     12224\n",
      "weighted avg       0.92      0.92      0.92     12224\n",
      "\n",
      "Confusion Matrix:\n",
      " [[2356    5   36  225]\n",
      " [   1 4959  193    9]\n",
      " [  16   65 3063  167]\n",
      " [  99    7  173  850]]\n"
     ]
    },
    {
     "name": "stderr",
     "output_type": "stream",
     "text": [
      "\n"
     ]
    }
   ],
   "source": [
    "model = ViT.load_from_checkpoint(\n",
    "    'outputs/vit/lightning_logs/version_4795120/checkpoints/epoch=8-step=6894.ckpt'\n",
    ").cuda()\n",
    "\n",
    "result = test_model(model, val_dataloader)\n",
    "\n",
    "print(f'Accuracy = {result[\"accuracy\"]:.4f}, F1 = {result[\"f1\"]:.4f}')\n",
    "print('Classification report:\\n', result['classification_report'])\n",
    "print('Confusion Matrix:\\n', result['confusion_matrix'])"
   ]
  },
  {
   "cell_type": "markdown",
   "id": "ec4002ef",
   "metadata": {},
   "source": [
    "## Full-tuned, augmented"
   ]
  },
  {
   "cell_type": "code",
   "execution_count": 23,
   "id": "c23b696c",
   "metadata": {},
   "outputs": [
    {
     "name": "stderr",
     "output_type": "stream",
     "text": [
      "100%|██████████| 191/191 [01:19<00:00,  2.41it/s]"
     ]
    },
    {
     "name": "stdout",
     "output_type": "stream",
     "text": [
      "Accuracy = 0.9250, F1 = 0.8832\n",
      "Classification report:\n",
      "               precision    recall  f1-score   support\n",
      "\n",
      "           0       0.92      0.95      0.93      2622\n",
      "           1       0.98      0.97      0.98      5162\n",
      "           2       0.91      0.91      0.91      3311\n",
      "           3       0.70      0.72      0.71      1129\n",
      "\n",
      "    accuracy                           0.92     12224\n",
      "   macro avg       0.88      0.89      0.88     12224\n",
      "weighted avg       0.93      0.92      0.93     12224\n",
      "\n",
      "Confusion Matrix:\n",
      " [[2480    5   17  120]\n",
      " [   1 5016  139    6]\n",
      " [  26   72 2999  214]\n",
      " [ 185    3  129  812]]\n"
     ]
    },
    {
     "name": "stderr",
     "output_type": "stream",
     "text": [
      "\n"
     ]
    }
   ],
   "source": [
    "model = ViT.load_from_checkpoint(\n",
    "    'outputs/vit/lightning_logs/version_5/checkpoints/epoch=6-step=5362.ckpt'\n",
    ").cpu()\n",
    "\n",
    "result = test_model(model, val_dataloader)\n",
    "\n",
    "print(f'Accuracy = {result[\"accuracy\"]:.4f}, F1 = {result[\"f1\"]:.4f}')\n",
    "print('Classification report:\\n', result['classification_report'])\n",
    "print('Confusion Matrix:\\n', result['confusion_matrix'])"
   ]
  },
  {
   "cell_type": "markdown",
   "id": "720cf8a4-f9b6-4f6a-a3d1-2f65daf7d740",
   "metadata": {},
   "source": [
    "# SwinViT"
   ]
  },
  {
   "cell_type": "markdown",
   "id": "4e27325e-fba2-4e57-b075-a323329d151e",
   "metadata": {},
   "source": [
    "## No Augmentation"
   ]
  },
  {
   "cell_type": "code",
   "execution_count": 6,
   "id": "8e0dd7d0-bd00-4531-bdf7-e3897f655ba1",
   "metadata": {
    "tags": []
   },
   "outputs": [
    {
     "name": "stderr",
     "output_type": "stream",
     "text": [
      "/home/mi3se/.conda/envs/astroclip/lib/python3.10/site-packages/timm/layers/interpolate.py:47: UserWarning: torch.searchsorted(): input value tensor is non-contiguous, this will lower the performance due to extra data copy when converting non-contiguous tensor to contiguous, please use contiguous input value tensor if possible. This message will only appear once per program. (Triggered internally at ../aten/src/ATen/native/BucketizationUtils.h:32.)\n",
      "  idx_right = torch.bucketize(x, p)\n",
      "100%|██████████| 191/191 [00:10<00:00, 18.11it/s]\n"
     ]
    },
    {
     "name": "stdout",
     "output_type": "stream",
     "text": [
      "Accuracy = 0.8929, F1 = 0.8310\n",
      "Classification report:\n",
      "               precision    recall  f1-score   support\n",
      "\n",
      "           0       0.91      0.91      0.91      2622\n",
      "           1       0.95      0.98      0.96      5162\n",
      "           2       0.86      0.87      0.86      3311\n",
      "           3       0.65      0.53      0.59      1129\n",
      "\n",
      "    accuracy                           0.89     12224\n",
      "   macro avg       0.84      0.82      0.83     12224\n",
      "weighted avg       0.89      0.89      0.89     12224\n",
      "\n",
      "Confusion Matrix:\n",
      " [[2377    8   64  173]\n",
      " [   4 5054  102    2]\n",
      " [  45  241 2880  145]\n",
      " [ 180   28  317  604]]\n"
     ]
    }
   ],
   "source": [
    "model = ViT.load_from_checkpoint(\n",
    "    'outputs/swin/lightning_logs/version_4817511/checkpoints/epoch=3-step=3064.ckpt'\n",
    ").cuda()\n",
    "\n",
    "result = test_model(model, val_dataloader)\n",
    "\n",
    "print(f'Accuracy = {result[\"accuracy\"]:.4f}, F1 = {result[\"f1\"]:.4f}')\n",
    "print('Classification report:\\n', result['classification_report'])\n",
    "print('Confusion Matrix:\\n', result['confusion_matrix'])"
   ]
  },
  {
   "cell_type": "markdown",
   "id": "1b6fa7e9-5df1-486c-9686-296dfc915164",
   "metadata": {},
   "source": [
    "## With Augmentation"
   ]
  },
  {
   "cell_type": "code",
   "execution_count": 8,
   "id": "06edcdf2-1a65-4612-8ae9-5c2c35d50ae4",
   "metadata": {
    "tags": []
   },
   "outputs": [
    {
     "name": "stderr",
     "output_type": "stream",
     "text": [
      "100%|██████████| 191/191 [00:04<00:00, 39.44it/s]\n"
     ]
    },
    {
     "name": "stdout",
     "output_type": "stream",
     "text": [
      "Accuracy = 0.8955, F1 = 0.8349\n",
      "Classification report:\n",
      "               precision    recall  f1-score   support\n",
      "\n",
      "           0       0.93      0.91      0.92      2622\n",
      "           1       0.95      0.97      0.96      5162\n",
      "           2       0.84      0.90      0.87      3311\n",
      "           3       0.67      0.53      0.59      1129\n",
      "\n",
      "    accuracy                           0.90     12224\n",
      "   macro avg       0.85      0.83      0.83     12224\n",
      "weighted avg       0.89      0.90      0.89     12224\n",
      "\n",
      "Confusion Matrix:\n",
      " [[2386    8   47  181]\n",
      " [   3 4997  161    1]\n",
      " [  28  207 2966  110]\n",
      " [ 160   21  350  598]]\n"
     ]
    }
   ],
   "source": [
    "model = ViT.load_from_checkpoint(\n",
    "    'outputs/swin/lightning_logs/version_4817511/checkpoints/epoch=3-step=3064-v1.ckpt'\n",
    ").cuda()\n",
    "\n",
    "result = test_model(model, val_dataloader)\n",
    "\n",
    "print(f'Accuracy = {result[\"accuracy\"]:.4f}, F1 = {result[\"f1\"]:.4f}')\n",
    "print('Classification report:\\n', result['classification_report'])\n",
    "print('Confusion Matrix:\\n', result['confusion_matrix'])"
   ]
  },
  {
   "cell_type": "markdown",
   "id": "6d50cf09",
   "metadata": {},
   "source": [
    "## Interpret"
   ]
  },
  {
   "cell_type": "code",
   "execution_count": 3,
   "id": "4bb18b72",
   "metadata": {},
   "outputs": [],
   "source": [
    "from captum.attr import IntegratedGradients, GradientShap, FeatureAblation\n",
    "\n",
    "from models.vit import ViT\n",
    "model = ViT.load_from_checkpoint(\n",
    "    'outputs/vit/lightning_logs/version_5/checkpoints/epoch=6-step=5362.ckpt'\n",
    ").cpu()"
   ]
  },
  {
   "cell_type": "code",
   "execution_count": 4,
   "id": "c24ba8b1",
   "metadata": {},
   "outputs": [],
   "source": [
    "ig = GradientShap(model)"
   ]
  },
  {
   "cell_type": "code",
   "execution_count": 5,
   "id": "edc6ef4c",
   "metadata": {},
   "outputs": [],
   "source": [
    "batch = next(iter(val_dataloader))"
   ]
  },
  {
   "cell_type": "code",
   "execution_count": 26,
   "id": "320e54fe",
   "metadata": {},
   "outputs": [],
   "source": [
    "outputs = model(batch[0])\n",
    "predicted_labels = torch.argmax(outputs, dim=1)"
   ]
  },
  {
   "cell_type": "code",
   "execution_count": 30,
   "id": "c63c96f8",
   "metadata": {},
   "outputs": [],
   "source": [
    "attr = ig.attribute(\n",
    "    batch[0][:4], target=predicted_labels[:4], \n",
    "    baselines=torch.zeros_like(batch[0][:2])\n",
    ")"
   ]
  },
  {
   "cell_type": "code",
   "execution_count": 32,
   "id": "453f3614",
   "metadata": {},
   "outputs": [],
   "source": [
    "def min_max_normalize(x):\n",
    "    return (x - x.min()) / (x.max() - x.min())"
   ]
  },
  {
   "cell_type": "code",
   "execution_count": 34,
   "id": "8cee31e3",
   "metadata": {},
   "outputs": [
    {
     "data": {
      "image/png": "[encoded data removed]",
      "text/plain": [
       "<Figure size 600x700 with 8 Axes>"
      ]
     },
     "metadata": {},
     "output_type": "display_data"
    }
   ],
   "source": [
    "import matplotlib.pyplot as plt\n",
    "\n",
    "fig, axes = plt.subplots(4, 2, figsize=(6, 7))\n",
    "\n",
    "for i in range(4):\n",
    "    axes[i][0].imshow(batch[0][i].T.numpy())\n",
    "    axes[i][0].set_title(f'Image {i+1}, Raw')\n",
    "    axes[i][0].grid(False)\n",
    "    axes[i][0].axis('off')\n",
    "    \n",
    "    axes[i][1].imshow(min_max_normalize(attr[i]).T.numpy(), cmap='gray')\n",
    "    axes[i][1].set_title(f'Image {i+1}, Interpretation')\n",
    "    axes[i][1].grid(False)\n",
    "    axes[i][1].axis('off')\n",
    "\n",
    "plt.show()"
   ]
  },
  {
   "cell_type": "code",
   "execution_count": 36,
   "id": "0113375b",
   "metadata": {},
   "outputs": [],
   "source": [
    "attention_maps = []\n",
    "\n",
    "def hook_fn(module, input, output):\n",
    "    # output[1] is the attention weights (query x key)\n",
    "    attention_maps.append(output[1].detach().cpu())\n",
    "\n",
    "# Register hook on all attention layers\n",
    "for blk in model.backbone.blocks:\n",
    "    blk.attn.register_forward_hook(hook_fn)"
   ]
  },
  {
   "cell_type": "code",
   "execution_count": 37,
   "id": "b932de08",
   "metadata": {},
   "outputs": [],
   "source": [
    "with torch.no_grad():\n",
    "    outputs = model(batch[0])\n",
    "    predicted_labels = torch.argmax(outputs, dim=1)"
   ]
  },
  {
   "cell_type": "code",
   "execution_count": null,
   "id": "104a953e",
   "metadata": {},
   "outputs": [
    {
     "name": "stdout",
     "output_type": "stream",
     "text": [
      "12\n",
      "torch.Size([65, 192])\n"
     ]
    }
   ],
   "source": [
    "print(len(attention_maps))          # Number of transformer blocks\n",
    "\n",
    "# e.g., torch.Size([12, 65, 192]) for 12 heads, \n",
    "# 65 patches in a 8x8 patch grid + 1 CLS\n",
    "# 192 features per patch\n",
    "print(attention_maps[0].shape)      "
   ]
  },
  {
   "cell_type": "code",
   "execution_count": 51,
   "id": "fb8eb216",
   "metadata": {},
   "outputs": [],
   "source": [
    "# cls_attn = attention_maps[-1][:, 0, 1:]  # Last layer, all heads, CLS to all patches\n",
    "# cls_attn = cls_attn.mean(0).reshape(12, 12)  # Mean over heads"
   ]
  },
  {
   "cell_type": "code",
   "execution_count": 44,
   "id": "265645a7",
   "metadata": {},
   "outputs": [],
   "source": [
    "import timm\n",
    "from timm.utils import AttentionExtract\n",
    "timm.layers.set_fused_attn(False)"
   ]
  },
  {
   "cell_type": "code",
   "execution_count": 49,
   "id": "c47e57e3",
   "metadata": {},
   "outputs": [],
   "source": [
    "ee = AttentionExtract(model.backbone, names=['*attn*'], method='fx')(batch[0])"
   ]
  }
 ],
 "metadata": {
  "kernelspec": {
   "display_name": "AstroClip",
   "language": "python",
   "name": "astroclip"
  },
  "language_info": {
   "codemirror_mode": {
    "name": "ipython",
    "version": 3
   },
   "file_extension": ".py",
   "mimetype": "text/x-python",
   "name": "python",
   "nbconvert_exporter": "python",
   "pygments_lexer": "ipython3",
   "version": "3.10.16"
  }
 },
 "nbformat": 4,
 "nbformat_minor": 5
}
