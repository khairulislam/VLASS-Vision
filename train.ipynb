{
 "cells": [
  {
   "cell_type": "markdown",
   "id": "493c3832",
   "metadata": {},
   "source": [
    "# Imports"
   ]
  },
  {
   "cell_type": "code",
   "execution_count": 1,
   "id": "80b71559",
   "metadata": {},
   "outputs": [],
   "source": [
    "import numpy as np\n",
    "import pickle, os\n",
    "from urllib.request import urlopen\n",
    "from tqdm import tqdm"
   ]
  },
  {
   "cell_type": "markdown",
   "id": "ffa92f16",
   "metadata": {},
   "source": [
    "# Data"
   ]
  },
  {
   "cell_type": "code",
   "execution_count": 2,
   "id": "0136efeb",
   "metadata": {},
   "outputs": [],
   "source": [
    "from datamodule import VLASSLoader\n",
    "\n",
    "datamodule = VLASSLoader(root='./data/', batch_size=32, pin_memory=True)"
   ]
  },
  {
   "cell_type": "markdown",
   "id": "2d02cf6c",
   "metadata": {},
   "source": [
    "# Train"
   ]
  },
  {
   "cell_type": "markdown",
   "id": "ac224796",
   "metadata": {},
   "source": [
    "## Model"
   ]
  },
  {
   "cell_type": "code",
   "execution_count": null,
   "id": "ad75c2f1",
   "metadata": {},
   "outputs": [],
   "source": [
    "import torch\n",
    "from models.cnn import CNN\n",
    "from lightning import Trainer"
   ]
  },
  {
   "cell_type": "code",
   "execution_count": null,
   "id": "c714a11b",
   "metadata": {},
   "outputs": [],
   "source": [
    "model = CNN(num_classes=4, input_shape=(1, 64, 64))"
   ]
  },
  {
   "cell_type": "code",
   "execution_count": null,
   "id": "95a12872",
   "metadata": {},
   "outputs": [
    {
     "name": "stderr",
     "output_type": "stream",
     "text": [
      "GPU available: True (cuda), used: True\n",
      "TPU available: False, using: 0 TPU cores\n",
      "HPU available: False, using: 0 HPUs\n",
      "You are using a CUDA device ('NVIDIA GeForce RTX 3060 Laptop GPU') that has Tensor Cores. To properly utilize them, you should set `torch.set_float32_matmul_precision('medium' | 'high')` which will trade-off precision for performance. For more details, read https://pytorch.org/docs/stable/generated/torch.set_float32_matmul_precision.html#torch.set_float32_matmul_precision\n"
     ]
    },
    {
     "name": "stdout",
     "output_type": "stream",
     "text": [
      "Loading data from file: ./data/vlass_data_array.p\n"
     ]
    },
    {
     "name": "stderr",
     "output_type": "stream",
     "text": [
      "LOCAL_RANK: 0 - CUDA_VISIBLE_DEVICES: [0]\n"
     ]
    },
    {
     "name": "stdout",
     "output_type": "stream",
     "text": [
      "Loading labels from file: ./data/vlass_labels.p\n",
      "61351 images, each of size 64 x 64 pixels.\n",
      "There are 61351 corresponding labels - one category for each image.\n"
     ]
    },
    {
     "name": "stderr",
     "output_type": "stream",
     "text": [
      "\n",
      "   | Name     | Type        | Params | Mode \n",
      "--------------------------------------------------\n",
      "0  | conv1    | Conv2d      | 750    | train\n",
      "1  | bn1      | BatchNorm2d | 150    | train\n",
      "2  | pool1    | MaxPool2d   | 0      | train\n",
      "3  | conv2    | Conv2d      | 33.8 K | train\n",
      "4  | dropout1 | Dropout     | 0      | train\n",
      "5  | bn2      | BatchNorm2d | 100    | train\n",
      "6  | pool2    | MaxPool2d   | 0      | train\n",
      "7  | conv3    | Conv2d      | 11.3 K | train\n",
      "8  | bn3      | BatchNorm2d | 50     | train\n",
      "9  | pool3    | MaxPool2d   | 0      | train\n",
      "10 | fc1      | Linear      | 819 K  | train\n",
      "11 | dropout2 | Dropout     | 0      | train\n",
      "12 | fc2      | Linear      | 2.1 K  | train\n",
      "--------------------------------------------------\n",
      "867 K     Trainable params\n",
      "0         Non-trainable params\n",
      "867 K     Total params\n",
      "3.472     Total estimated model params size (MB)\n",
      "13        Modules in train mode\n",
      "0         Modules in eval mode\n"
     ]
    },
    {
     "data": {
      "application/vnd.jupyter.widget-view+json": {
       "model_id": "bd9f4cfe34234963a20b4d93bcbf8b40",
       "version_major": 2,
       "version_minor": 0
      },
      "text/plain": [
       "Sanity Checking: |          | 0/? [00:00<?, ?it/s]"
      ]
     },
     "metadata": {},
     "output_type": "display_data"
    },
    {
     "name": "stderr",
     "output_type": "stream",
     "text": [
      "c:\\Users\\mi3se\\AppData\\Local\\Programs\\Python\\Python310\\lib\\site-packages\\lightning\\pytorch\\trainer\\connectors\\data_connector.py:425: The 'val_dataloader' does not have many workers which may be a bottleneck. Consider increasing the value of the `num_workers` argument` to `num_workers=19` in the `DataLoader` to improve performance.\n"
     ]
    },
    {
     "name": "stdout",
     "output_type": "stream",
     "text": [
      "Val size: 12270\n",
      "Train size: 49081\n"
     ]
    },
    {
     "name": "stderr",
     "output_type": "stream",
     "text": [
      "c:\\Users\\mi3se\\AppData\\Local\\Programs\\Python\\Python310\\lib\\site-packages\\lightning\\pytorch\\trainer\\connectors\\data_connector.py:425: The 'train_dataloader' does not have many workers which may be a bottleneck. Consider increasing the value of the `num_workers` argument` to `num_workers=19` in the `DataLoader` to improve performance.\n"
     ]
    },
    {
     "data": {
      "application/vnd.jupyter.widget-view+json": {
       "model_id": "47b8add26ac3466fa1e47177fbd16241",
       "version_major": 2,
       "version_minor": 0
      },
      "text/plain": [
       "Training: |          | 0/? [00:00<?, ?it/s]"
      ]
     },
     "metadata": {},
     "output_type": "display_data"
    },
    {
     "name": "stderr",
     "output_type": "stream",
     "text": [
      "c:\\Users\\mi3se\\AppData\\Local\\Programs\\Python\\Python310\\lib\\site-packages\\torch\\optim\\lr_scheduler.py:243: UserWarning: The epoch parameter in `scheduler.step()` was not necessary and is being deprecated where possible. Please use `scheduler.step()` to step the scheduler. During the deprecation, if epoch is different from None, the closed form is used instead of the new chainable form, where available. Please open an issue if you are unable to replicate your use case: https://github.com/pytorch/pytorch/issues/new/choose.\n",
      "  warnings.warn(EPOCH_DEPRECATION_WARNING, UserWarning)\n"
     ]
    },
    {
     "data": {
      "application/vnd.jupyter.widget-view+json": {
       "model_id": "1da68e44282d4e9a9060641020ef0c48",
       "version_major": 2,
       "version_minor": 0
      },
      "text/plain": [
       "Validation: |          | 0/? [00:00<?, ?it/s]"
      ]
     },
     "metadata": {},
     "output_type": "display_data"
    },
    {
     "data": {
      "application/vnd.jupyter.widget-view+json": {
       "model_id": "218b5eb1efeb458e9ec25a5ac4d12ade",
       "version_major": 2,
       "version_minor": 0
      },
      "text/plain": [
       "Validation: |          | 0/? [00:00<?, ?it/s]"
      ]
     },
     "metadata": {},
     "output_type": "display_data"
    },
    {
     "name": "stderr",
     "output_type": "stream",
     "text": [
      "`Trainer.fit` stopped: `max_epochs=2` reached.\n"
     ]
    }
   ],
   "source": [
    "trainer = Trainer(max_epochs=2)\n",
    "trainer.fit(model, datamodule)  "
   ]
  },
  {
   "cell_type": "markdown",
   "id": "4a060709",
   "metadata": {},
   "source": [
    "## Evaluate"
   ]
  },
  {
   "cell_type": "code",
   "execution_count": 39,
   "id": "c9da169a",
   "metadata": {},
   "outputs": [],
   "source": [
    "model = CNN.load_from_checkpoint(\n",
    "    './outputs/cnn/lightning_logs/version_4/checkpoints/epoch=5-step=4596.ckpt'\n",
    ").cpu() # GPU to CPU, cuda not needed during inference"
   ]
  },
  {
   "cell_type": "code",
   "execution_count": 43,
   "id": "f51427e0",
   "metadata": {},
   "outputs": [],
   "source": [
    "import torch\n",
    "from tqdm import tqdm\n",
    "from sklearn.metrics import accuracy_score, f1_score, confusion_matrix, classification_report\n",
    "\n",
    "def test_model(model, dataloader):\n",
    "    model.eval()\n",
    "    with torch.no_grad():\n",
    "        y_trues, y_preds = [], []\n",
    "        \n",
    "        for inputs, labels in tqdm(dataloader):\n",
    "            outputs = model(inputs)\n",
    "            predicted = torch.argmax(outputs, 1)\n",
    "            \n",
    "            y_trues.extend(labels.detach().cpu().numpy())\n",
    "            y_preds.extend(predicted.detach().cpu().numpy())\n",
    "            \n",
    "    acc = accuracy_score(y_trues, y_preds)\n",
    "    f1 = f1_score(y_trues, y_preds, average='macro')\n",
    "    \n",
    "    return {\n",
    "        'accuracy': accuracy_score(y_trues, y_preds),\n",
    "        'f1': f1_score(y_trues, y_preds, average='macro'),\n",
    "        'confusion_matrix': confusion_matrix(y_trues, y_preds),\n",
    "        'classification_report': classification_report(y_trues, y_preds, zero_division=0)\n",
    "    }"
   ]
  },
  {
   "cell_type": "code",
   "execution_count": 46,
   "id": "b98e5bdd",
   "metadata": {},
   "outputs": [
    {
     "name": "stdout",
     "output_type": "stream",
     "text": [
      "Val size: 12270\n"
     ]
    },
    {
     "name": "stderr",
     "output_type": "stream",
     "text": [
      "100%|██████████| 383/383 [00:10<00:00, 36.16it/s]\n"
     ]
    }
   ],
   "source": [
    "result = test_model(model, datamodule.val_dataloader())"
   ]
  },
  {
   "cell_type": "code",
   "execution_count": 47,
   "id": "bc0ff32e",
   "metadata": {},
   "outputs": [
    {
     "name": "stdout",
     "output_type": "stream",
     "text": [
      "Accuracy = 0.8174771540469974, F1 = 0.6339822115663432\n",
      "Classification report:\n",
      "               precision    recall  f1-score   support\n",
      "\n",
      "           0       0.74      0.95      0.83      2668\n",
      "           1       0.94      0.93      0.93      5160\n",
      "           2       0.72      0.83      0.77      3268\n",
      "           3       0.00      0.00      0.00      1160\n",
      "\n",
      "    accuracy                           0.82     12256\n",
      "   macro avg       0.60      0.68      0.63     12256\n",
      "weighted avg       0.75      0.82      0.78     12256\n",
      "\n",
      "Confusion Matrix:\n",
      " [[2535   17  116    0]\n",
      " [  46 4774  340    0]\n",
      " [ 310  248 2710    0]\n",
      " [ 554   27  579    0]]\n"
     ]
    }
   ],
   "source": [
    "print(f'Accuracy = {result[\"accuracy\"]}, F1 = {result[\"f1\"]}')\n",
    "print('Classification report:\\n', result['classification_report'])\n",
    "print('Confusion Matrix:\\n', result['confusion_matrix'])"
   ]
  }
 ],
 "metadata": {
  "kernelspec": {
   "display_name": "Python 3",
   "language": "python",
   "name": "python3"
  },
  "language_info": {
   "codemirror_mode": {
    "name": "ipython",
    "version": 3
   },
   "file_extension": ".py",
   "mimetype": "text/x-python",
   "name": "python",
   "nbconvert_exporter": "python",
   "pygments_lexer": "ipython3",
   "version": "3.10.11"
  }
 },
 "nbformat": 4,
 "nbformat_minor": 5
}
