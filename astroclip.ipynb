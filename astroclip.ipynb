{
 "cells": [
  {
   "cell_type": "markdown",
   "id": "f1add808",
   "metadata": {},
   "source": [
    "# AstroCLIP\n",
    "\n",
    "This notebook finetunes the astroclip model on this dataset."
   ]
  },
  {
   "cell_type": "markdown",
   "id": "8369500f",
   "metadata": {},
   "source": [
    "## Load model"
   ]
  },
  {
   "cell_type": "code",
   "execution_count": 2,
   "id": "d7dad0ca",
   "metadata": {
    "tags": []
   },
   "outputs": [],
   "source": [
    "from astroclip.models import AstroClipModel\n",
    "\n",
    "model = AstroClipModel.load_from_checkpoint(\n",
    "    \"./pretrained/astroclip.ckpt\"\n",
    ").cuda()"
   ]
  },
  {
   "cell_type": "markdown",
   "id": "7ef2f3fe",
   "metadata": {},
   "source": [
    "## Data"
   ]
  },
  {
   "cell_type": "code",
   "execution_count": 3,
   "id": "a0f9d253",
   "metadata": {
    "tags": []
   },
   "outputs": [],
   "source": [
    "from torchvision import transforms\n",
    "\n",
    "transform = transforms.Compose([\n",
    "    transforms.ToPILImage(),\n",
    "    transforms.Grayscale(num_output_channels=3),\n",
    "    transforms.Resize((144, 144)),\n",
    "    transforms.ToTensor()\n",
    "])"
   ]
  },
  {
   "cell_type": "code",
   "execution_count": 4,
   "id": "5cd2803c",
   "metadata": {
    "tags": []
   },
   "outputs": [],
   "source": [
    "from datamodule import VLASSLoader\n",
    "datamodule = VLASSLoader(\n",
    "    root = \"./data\", batch_size=32, pin_memory=True,\n",
    "    transform = transform\n",
    ")"
   ]
  },
  {
   "cell_type": "markdown",
   "id": "aec60090",
   "metadata": {},
   "source": [
    "## LinearProbe"
   ]
  },
  {
   "cell_type": "code",
   "execution_count": 7,
   "id": "8104fba8",
   "metadata": {
    "tags": []
   },
   "outputs": [],
   "source": [
    "from torch import nn\n",
    "from models.vision import VisionModel\n",
    "\n",
    "class AstroClip(VisionModel):\n",
    "    def __init__(self, embed_dim=1024, freeze=True):\n",
    "        super().__init__()\n",
    "        self.backbone = model\n",
    "        self.head = nn.Linear(embed_dim, self.num_classes)\n",
    "        \n",
    "        if freeze:\n",
    "            for param in self.backbone.parameters():\n",
    "                param.requires_grad = False\n",
    "\n",
    "    def forward(self, x):\n",
    "        x = self.backbone(x, input_type='image')\n",
    "        x = self.head(x)\n",
    "        return x"
   ]
  },
  {
   "cell_type": "code",
   "execution_count": 27,
   "id": "516e5eeb",
   "metadata": {
    "tags": []
   },
   "outputs": [],
   "source": [
    "clip_model = AstroClip().cuda()"
   ]
  },
  {
   "cell_type": "code",
   "execution_count": null,
   "id": "1174aa76",
   "metadata": {
    "tags": []
   },
   "outputs": [
    {
     "name": "stderr",
     "output_type": "stream",
     "text": [
      "GPU available: True (cuda), used: True\n",
      "TPU available: False, using: 0 TPU cores\n",
      "HPU available: False, using: 0 HPUs\n",
      "LOCAL_RANK: 0 - CUDA_VISIBLE_DEVICES: [0]\n",
      "\n",
      "  | Name     | Type           | Params | Mode \n",
      "----------------------------------------------------\n",
      "0 | backbone | AstroClipModel | 370 M  | eval \n",
      "1 | head     | Linear         | 4.1 K  | train\n",
      "----------------------------------------------------\n",
      "4.1 K     Trainable params\n",
      "370 M     Non-trainable params\n",
      "370 M     Total params\n",
      "1,483.210 Total estimated model params size (MB)\n",
      "1         Modules in train mode\n",
      "525       Modules in eval mode\n",
      "SLURM auto-requeueing enabled. Setting signal handlers.\n"
     ]
    },
    {
     "data": {
      "application/vnd.jupyter.widget-view+json": {
       "model_id": "",
       "version_major": 2,
       "version_minor": 0
      },
      "text/plain": [
       "Sanity Checking: |          | 0/? [00:00<?, ?it/s]"
      ]
     },
     "metadata": {},
     "output_type": "display_data"
    },
    {
     "data": {
      "application/vnd.jupyter.widget-view+json": {
       "model_id": "acbd6f18cb70449ab9b99045ee407030",
       "version_major": 2,
       "version_minor": 0
      },
      "text/plain": [
       "Training: |          | 0/? [00:00<?, ?it/s]"
      ]
     },
     "metadata": {},
     "output_type": "display_data"
    },
    {
     "data": {
      "application/vnd.jupyter.widget-view+json": {
       "model_id": "",
       "version_major": 2,
       "version_minor": 0
      },
      "text/plain": [
       "Validation: |          | 0/? [00:00<?, ?it/s]"
      ]
     },
     "metadata": {},
     "output_type": "display_data"
    },
    {
     "data": {
      "application/vnd.jupyter.widget-view+json": {
       "model_id": "",
       "version_major": 2,
       "version_minor": 0
      },
      "text/plain": [
       "Validation: |          | 0/? [00:00<?, ?it/s]"
      ]
     },
     "metadata": {},
     "output_type": "display_data"
    },
    {
     "data": {
      "application/vnd.jupyter.widget-view+json": {
       "model_id": "",
       "version_major": 2,
       "version_minor": 0
      },
      "text/plain": [
       "Validation: |          | 0/? [00:00<?, ?it/s]"
      ]
     },
     "metadata": {},
     "output_type": "display_data"
    },
    {
     "data": {
      "application/vnd.jupyter.widget-view+json": {
       "model_id": "",
       "version_major": 2,
       "version_minor": 0
      },
      "text/plain": [
       "Validation: |          | 0/? [00:00<?, ?it/s]"
      ]
     },
     "metadata": {},
     "output_type": "display_data"
    },
    {
     "data": {
      "application/vnd.jupyter.widget-view+json": {
       "model_id": "",
       "version_major": 2,
       "version_minor": 0
      },
      "text/plain": [
       "Validation: |          | 0/? [00:00<?, ?it/s]"
      ]
     },
     "metadata": {},
     "output_type": "display_data"
    },
    {
     "data": {
      "application/vnd.jupyter.widget-view+json": {
       "model_id": "",
       "version_major": 2,
       "version_minor": 0
      },
      "text/plain": [
       "Validation: |          | 0/? [00:00<?, ?it/s]"
      ]
     },
     "metadata": {},
     "output_type": "display_data"
    },
    {
     "data": {
      "application/vnd.jupyter.widget-view+json": {
       "model_id": "",
       "version_major": 2,
       "version_minor": 0
      },
      "text/plain": [
       "Validation: |          | 0/? [00:00<?, ?it/s]"
      ]
     },
     "metadata": {},
     "output_type": "display_data"
    },
    {
     "data": {
      "application/vnd.jupyter.widget-view+json": {
       "model_id": "a773d409859349f48c74370658f8d5e3",
       "version_major": 2,
       "version_minor": 0
      },
      "text/plain": [
       "Validation: |          | 0/? [00:00<?, ?it/s]"
      ]
     },
     "metadata": {},
     "output_type": "display_data"
    }
   ],
   "source": [
    "from lightning import Trainer\n",
    "from lightning.pytorch.callbacks import ModelCheckpoint\n",
    "\n",
    "checkpointer = ModelCheckpoint('./outputs/AstroCLIP', monitor='val_loss')\n",
    "\n",
    "trainer = Trainer(\n",
    "    # max_steps=100, \n",
    "    max_epochs=10,\n",
    "    accelerator='gpu', devices=1,\n",
    "    callbacks=[checkpointer]\n",
    ")\n",
    "trainer.fit(clip_model, datamodule)"
   ]
  },
  {
   "cell_type": "markdown",
   "id": "9e06496a",
   "metadata": {},
   "source": [
    "## Test"
   ]
  },
  {
   "cell_type": "code",
   "execution_count": 11,
   "id": "167da947",
   "metadata": {
    "tags": []
   },
   "outputs": [],
   "source": [
    "val_dataloader = datamodule.val_dataloader()\n",
    "clip_model = clip_model.cuda()"
   ]
  },
  {
   "cell_type": "code",
   "execution_count": 15,
   "id": "9f2955bf",
   "metadata": {
    "tags": []
   },
   "outputs": [
    {
     "name": "stderr",
     "output_type": "stream",
     "text": [
      "100%|██████████| 383/383 [01:16<00:00,  5.01it/s]\n"
     ]
    }
   ],
   "source": [
    "from utils import test_model\n",
    "result = test_model(clip_model, val_dataloader)\n",
    "print(f'Accuracy = {result[\"accuracy\"]}, F1 = {result[\"f1\"]}')\n",
    "print('Classification report:\\n', result['classification_report'])\n",
    "print('Confusion Matrix:\\n', result['confusion_matrix'])"
   ]
  },
  {
   "cell_type": "code",
   "execution_count": 22,
   "id": "60714e07-4269-482d-b02d-466c15614082",
   "metadata": {
    "tags": []
   },
   "outputs": [
    {
     "data": {
      "text/plain": [
       "{'accuracy': 0.5205613577023499,\n",
       " 'f1': 0.32093310639850414,\n",
       " 'confusion_matrix': array([[1200, 1208,  220,    0],\n",
       "        [  27, 5139,    6,    0],\n",
       "        [  44, 3237,   41,    0],\n",
       "        [  32, 1038,   64,    0]]),\n",
       " 'classification_report': '              precision    recall  f1-score   support\\n\\n           0       0.92      0.46      0.61      2628\\n           1       0.48      0.99      0.65      5172\\n           2       0.12      0.01      0.02      3322\\n           3       0.00      0.00      0.00      1134\\n\\n    accuracy                           0.52     12256\\n   macro avg       0.38      0.37      0.32     12256\\nweighted avg       0.44      0.52      0.41     12256\\n'}"
      ]
     },
     "execution_count": 22,
     "metadata": {},
     "output_type": "execute_result"
    }
   ],
   "source": [
    "result"
   ]
  }
 ],
 "metadata": {
  "kernelspec": {
   "display_name": "AstroClip",
   "language": "python",
   "name": "astroclip"
  },
  "language_info": {
   "codemirror_mode": {
    "name": "ipython",
    "version": 3
   },
   "file_extension": ".py",
   "mimetype": "text/x-python",
   "name": "python",
   "nbconvert_exporter": "python",
   "pygments_lexer": "ipython3",
   "version": "3.10.16"
  }
 },
 "nbformat": 4,
 "nbformat_minor": 5
}
